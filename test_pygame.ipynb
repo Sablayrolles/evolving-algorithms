{
 "cells": [
  {
   "cell_type": "code",
   "execution_count": null,
   "metadata": {},
   "outputs": [],
   "source": [
    "import pygame #conda install -c cogsic pygame\n",
    "pygame.init()\n"
   ]
  },
  {
   "cell_type": "code",
   "execution_count": null,
   "metadata": {},
   "outputs": [],
   "source": [
    "screen_width = 500\n",
    "screen_height = 500\n",
    "\n",
    "win = pygame.display.set_mode((screen_width,screen_height))\n",
    "pygame.display.set_caption(\"First Game\")"
   ]
  },
  {
   "cell_type": "code",
   "execution_count": null,
   "metadata": {},
   "outputs": [],
   "source": [
    "#coords (0,0) coin en haut à gauche\n",
    "x = screen_width / 2\n",
    "y = screen_height / 2\n",
    "w = 40\n",
    "h = 60\n",
    "v = 5"
   ]
  },
  {
   "cell_type": "code",
   "execution_count": null,
   "metadata": {},
   "outputs": [],
   "source": [
    "run = True\n",
    "while run:\n",
    "    pygame.time.delay(50 )\n",
    "    \n",
    "    for event in pygame.event.get():\n",
    "        if event.type == pygame.QUIT:\n",
    "            run = False\n",
    "    \n",
    "    keys = pygame.key.get_pressed() #https://www.pygame.org/docs/ref/key.html\n",
    "    \n",
    "    \"\"\"\n",
    "    méthode propre clear screen:\n",
    "    pygame.draw.rect(win, (0, 0, 0), (x, y, w, h))\n",
    "    \"\"\"\n",
    "    if keys[pygame.K_LEFT] and x > v:\n",
    "        x -= v\n",
    "        \n",
    "    if keys[pygame.K_RIGHT] and x < screen_width - w:\n",
    "        x += v\n",
    "        \n",
    "    if keys[pygame.K_UP] and y > v:\n",
    "        y -= v\n",
    "        \n",
    "    if keys[pygame.K_DOWN] and y < screen_height - w:\n",
    "        y += v\n",
    "        \n",
    "    if keys[pygame.K_q]:\n",
    "        run = False\n",
    "        \n",
    "    win.fill((0,0,0)) #clear screen\n",
    "    pygame.draw.rect(win, (255, 0, 0), (x, y, w, h)) #https://www.pygame.org/docs/ref/draw.html\n",
    "    \n",
    "    pygame.display.update()\n",
    "pygame.quit()"
   ]
  }
 ],
 "metadata": {
  "kernelspec": {
   "display_name": "Python 2",
   "language": "python",
   "name": "python2"
  },
  "language_info": {
   "codemirror_mode": {
    "name": "ipython",
    "version": 2
   },
   "file_extension": ".py",
   "mimetype": "text/x-python",
   "name": "python",
   "nbconvert_exporter": "python",
   "pygments_lexer": "ipython2",
   "version": "2.7.15"
  }
 },
 "nbformat": 4,
 "nbformat_minor": 2
}
