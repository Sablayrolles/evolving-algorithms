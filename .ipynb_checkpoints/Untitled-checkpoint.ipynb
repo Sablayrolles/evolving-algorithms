{
 "cells": [
  {
   "cell_type": "code",
   "execution_count": 11,
   "metadata": {},
   "outputs": [
    {
     "data": {
      "text/plain": [
       "(4, 0)"
      ]
     },
     "execution_count": 11,
     "metadata": {},
     "output_type": "execute_result"
    }
   ],
   "source": [
    "import pygame\n",
    "pygame.init()\n"
   ]
  },
  {
   "cell_type": "code",
   "execution_count": 12,
   "metadata": {},
   "outputs": [],
   "source": [
    "win = pygame.display.set_mode((500,500))\n",
    "pygame.display.set_caption(\"First Game\")"
   ]
  },
  {
   "cell_type": "code",
   "execution_count": 13,
   "metadata": {},
   "outputs": [],
   "source": [
    "x = 50\n",
    "y = 50\n",
    "w = 40\n",
    "h = 60\n",
    "v = 5"
   ]
  },
  {
   "cell_type": "code",
   "execution_count": 14,
   "metadata": {},
   "outputs": [],
   "source": [
    "run = True\n",
    "while run:\n",
    "    pygame.time.delay(100)\n",
    "    \n",
    "    for event in pygame.event.get():\n",
    "        if event.type == pygame.QUIT:\n",
    "            run = False\n",
    "    \n",
    "    keys = pygame.key.get_pressed()\n",
    "    \n",
    "    if keys[pygame.K_LEFT]:\n",
    "        \n",
    "    if keys[pygame.K_RIGHT]:\n",
    "        \n",
    "    if keys[pygame.K_UP]:\n",
    "        \n",
    "    if keys[pygame.K_DOWN]:\n",
    "    \n",
    "    pygame.draw.rect(win, (255, 0, 0), (x, y, w, h))\n",
    "    #.circle ->\n",
    "    \n",
    "    pygame.display.update()\n",
    "pygame.quit()"
   ]
  }
 ],
 "metadata": {
  "kernelspec": {
   "display_name": "Python 2",
   "language": "python",
   "name": "python2"
  },
  "language_info": {
   "codemirror_mode": {
    "name": "ipython",
    "version": 2
   },
   "file_extension": ".py",
   "mimetype": "text/x-python",
   "name": "python",
   "nbconvert_exporter": "python",
   "pygments_lexer": "ipython2",
   "version": "2.7.15"
  }
 },
 "nbformat": 4,
 "nbformat_minor": 2
}
